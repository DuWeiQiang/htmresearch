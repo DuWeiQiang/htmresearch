{
 "cells": [
  {
   "cell_type": "code",
   "execution_count": 1,
   "metadata": {},
   "outputs": [],
   "source": [
    "import os\n",
    "import sys\n",
    "import numpy as np\n",
    "import torch\n",
    "from torchvision import datasets, transforms\n",
    "from htmresearch.frameworks.pytorch.mnist_sparse_experiment import \\\n",
    "  MNISTSparseExperiment\n",
    "from htmresearch.frameworks.pytorch.model_utils import evaluateModel\n",
    "from htmresearch.frameworks.pytorch.benchmark_utils import (\n",
    "  register_nonzero_counter, unregister_counter_nonzero)\n",
    "from tabulate import tabulate\n",
    "\n",
    "import matplotlib\n",
    "import matplotlib.pyplot as plt\n",
    "import pandas as pd\n",
    "import warnings\n",
    "warnings.filterwarnings('ignore')\n"
   ]
  },
  {
   "cell_type": "code",
   "execution_count": 2,
   "metadata": {},
   "outputs": [],
   "source": [
    "%matplotlib inline\n",
    "def analyzeDutycyclePruning(path, params, minW, minD):\n",
    "\n",
    "    # Dataset transformations used during training. See mnist_sparse_experiment.py\n",
    "    transform = transforms.Compose([transforms.ToTensor(),\n",
    "                                  transforms.Normalize((0.1307,), (0.3081,))])\n",
    "\n",
    "    # Initialize MNIST test dataset for this experiment\n",
    "    test_loader = torch.utils.data.DataLoader(\n",
    "    datasets.MNIST(params[\"datadir\"], train=False, download=True,\n",
    "                   transform=transform),\n",
    "    batch_size=params[\"test_batch_size\"], shuffle=True)\n",
    "\n",
    "    # Load pre-trained model and evaluate with test dataset\n",
    "    model = torch.load(os.path.join(path, \"model.pt\"), map_location=\"cpu\")\n",
    "    model.pruneWeights(minW)\n",
    "    model.pruneDutycycles(minD)\n",
    "\n",
    "    # Collect nonzero\n",
    "    nonzero = {}\n",
    "    register_nonzero_counter(model, nonzero)\n",
    "    results = evaluateModel(model, test_loader)\n",
    "    unregister_counter_nonzero(model)\n",
    "    table = pd.DataFrame.from_dict(nonzero)\n",
    "    table = pd.DataFrame({\"nonzero weight\": table.xs(\"weight\")})\n",
    "    table.dropna(inplace=True)\n",
    "    table.drop([\"input\", \"output\"], inplace=True)\n",
    "    print(tabulate(table, headers='keys', tablefmt='fancy_grid', numalign=\"right\"))\n",
    "\n",
    "    for k, v in model.named_buffers():\n",
    "        if 'dutyCycle' in k:\n",
    "            dutyCycle = v.view(-1).numpy()\n",
    "            dutyCycle[dutyCycle<=minD] = 0\n",
    "            print k,\", min:\", dutyCycle.min(), \\\n",
    "                    \", max:\",dutyCycle.max(), \\\n",
    "                    \", nonzero:\", len(dutyCycle.nonzero()[0])\n",
    "            plt.figure()\n",
    "            pd.Series(dutyCycle).plot(kind='hist', title=k, bins=100)\n",
    "\n",
    "    return model, results[\"accuracy\"]"
   ]
  },
  {
   "cell_type": "code",
   "execution_count": 3,
   "metadata": {},
   "outputs": [
    {
     "name": "stdout",
     "output_type": "stream",
     "text": [
      "Before prunning\n",
      "╒═════════════════════════╤══════════════════╕\n",
      "│                         │   nonzero weight │\n",
      "╞═════════════════════════╪══════════════════╡\n",
      "│ cnnSdr.cnnSdr0.cnn      │             7500 │\n",
      "├─────────────────────────┼──────────────────┤\n",
      "│ cnnSdr.cnnSdr1.cnn      │           225000 │\n",
      "├─────────────────────────┼──────────────────┤\n",
      "│ fc                      │            30000 │\n",
      "├─────────────────────────┼──────────────────┤\n",
      "│ linearSdr.linearSdr1.l1 │           432000 │\n",
      "╘═════════════════════════╧══════════════════╛\n",
      "cnnSdr.cnnSdr0.dutyCycle , min: 0.00025 , max: 0.296868 , nonzero: 30\n",
      "cnnSdr.cnnSdr1.dutyCycle , min: 0.469444 , max: 0.810401 , nonzero: 30\n",
      "linearSdr.linearSdr1.dutyCycle , min: 0.0 , max: 0.784193 , nonzero: 294\n"
     ]
    },
    {
     "data": {
      "image/png": "[encoded data removed]",
      "text/plain": [
       "<matplotlib.figure.Figure at 0x10a864390>"
      ]
     },
     "metadata": {
      "needs_background": "light"
     },
     "output_type": "display_data"
    },
    {
     "data": {
      "image/png": "[encoded data removed]",
      "text/plain": [
       "<matplotlib.figure.Figure at 0x10a864050>"
      ]
     },
     "metadata": {
      "needs_background": "light"
     },
     "output_type": "display_data"
    },
    {
     "data": {
      "image/png": "[encoded data removed]",
      "text/plain": [
       "<matplotlib.figure.Figure at 0x11eb5a6d0>"
      ]
     },
     "metadata": {
      "needs_background": "light"
     },
     "output_type": "display_data"
    }
   ],
   "source": [
    "sys.argv = ['-c', 'experiments_paper.cfg']\n",
    "suite = MNISTSparseExperiment()\n",
    "suite.parse_opt()\n",
    "suite.parse_cfg()\n",
    "path = suite.get_exp(\"sparseCNN2\")[0]\n",
    "results = suite.get_exps(path=path)\n",
    "print \"Before prunning\"\n",
    "model, accuracy = analyzeDutycyclePruning(path=path, \n",
    "                                          params=suite.get_params(results[0]), \n",
    "                                          minW=0.0, \n",
    "                                          minD=0.0)"
   ]
  },
  {
   "cell_type": "code",
   "execution_count": 4,
   "metadata": {},
   "outputs": [
    {
     "name": "stdout",
     "output_type": "stream",
     "text": [
      "accuracy: 0.9857\n",
      "w.nonzero: 43200\n",
      "dc.nonzero: 294\n"
     ]
    }
   ],
   "source": [
    "dc = model.linearSdr.linearSdr1.dutyCycle\n",
    "w = model.linearSdr.linearSdr1.l1.weight\n",
    "\n",
    "print \"accuracy:\", accuracy\n",
    "print \"w.nonzero:\", torch.nonzero(w).size()[0]\n",
    "print \"dc.nonzero:\", torch.nonzero(dc).size()[0]"
   ]
  },
  {
   "cell_type": "code",
   "execution_count": 5,
   "metadata": {},
   "outputs": [
    {
     "name": "stdout",
     "output_type": "stream",
     "text": [
      "After weight prunning\n",
      "╒═════════════════════════╤══════════════════╕\n",
      "│                         │   nonzero weight │\n",
      "╞═════════════════════════╪══════════════════╡\n",
      "│ cnnSdr.cnnSdr0.cnn      │             4730 │\n",
      "├─────────────────────────┼──────────────────┤\n",
      "│ cnnSdr.cnnSdr1.cnn      │            63360 │\n",
      "├─────────────────────────┼──────────────────┤\n",
      "│ fc                      │            17910 │\n",
      "├─────────────────────────┼──────────────────┤\n",
      "│ linearSdr.linearSdr1.l1 │           124630 │\n",
      "╘═════════════════════════╧══════════════════╛\n",
      "cnnSdr.cnnSdr0.dutyCycle , min: 0.0 , max: 0.30175 , nonzero: 21\n",
      "cnnSdr.cnnSdr1.dutyCycle , min: 0.469444 , max: 0.810401 , nonzero: 30\n",
      "linearSdr.linearSdr1.dutyCycle , min: 0.0 , max: 0.784193 , nonzero: 196\n"
     ]
    },
    {
     "data": {
      "image/png": "[encoded data removed]",
      "text/plain": [
       "<matplotlib.figure.Figure at 0x11ec7d690>"
      ]
     },
     "metadata": {
      "needs_background": "light"
     },
     "output_type": "display_data"
    },
    {
     "data": {
      "image/png": "[encoded data removed]",
      "text/plain": [
       "<matplotlib.figure.Figure at 0x11ed36790>"
      ]
     },
     "metadata": {
      "needs_background": "light"
     },
     "output_type": "display_data"
    },
    {
     "data": {
      "image/png": "[encoded data removed]",
      "text/plain": [
       "<matplotlib.figure.Figure at 0x11f44e090>"
      ]
     },
     "metadata": {
      "needs_background": "light"
     },
     "output_type": "display_data"
    }
   ],
   "source": [
    "print \"After weight prunning\"\n",
    "model, accuracy = analyzeDutycyclePruning(path=path,\n",
    "                                          params=suite.get_params(results[0]), \n",
    "                                          minW=0.03, \n",
    "                                          minD=0.01)\n"
   ]
  },
  {
   "cell_type": "code",
   "execution_count": 6,
   "metadata": {},
   "outputs": [
    {
     "name": "stdout",
     "output_type": "stream",
     "text": [
      "accuracy: 0.9836\n",
      "w.nonzero: 12463\n",
      "dc.nonzero: 196\n"
     ]
    }
   ],
   "source": [
    "dc = model.linearSdr.linearSdr1.dutyCycle\n",
    "w = model.linearSdr.linearSdr1.l1.weight\n",
    "\n",
    "print \"accuracy:\", accuracy\n",
    "print \"w.nonzero:\", torch.nonzero(w).size()[0]\n",
    "print \"dc.nonzero:\", torch.nonzero(dc).size()[0]"
   ]
  },
  {
   "cell_type": "code",
   "execution_count": null,
   "metadata": {},
   "outputs": [],
   "source": []
  }
 ],
 "metadata": {
  "kernelspec": {
   "display_name": "Python 2",
   "language": "python",
   "name": "python2"
  },
  "language_info": {
   "codemirror_mode": {
    "name": "ipython",
    "version": 2
   },
   "file_extension": ".py",
   "mimetype": "text/x-python",
   "name": "python",
   "nbconvert_exporter": "python",
   "pygments_lexer": "ipython2",
   "version": "2.7.10"
  }
 },
 "nbformat": 4,
 "nbformat_minor": 2
}

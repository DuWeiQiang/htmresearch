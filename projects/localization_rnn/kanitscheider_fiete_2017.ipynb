{
 "cells": [
  {
   "cell_type": "code",
   "execution_count": 283,
   "metadata": {},
   "outputs": [],
   "source": [
    "%matplotlib inline\n",
    "import matplotlib.pyplot as plt\n",
    "import torch\n",
    "import random\n",
    "from math import pi\n",
    "\n",
    "def vonMises(x, sigma):\n",
    "    \"\"\"The PDF of a von Mises distribution centered on 0.\"\"\"\n",
    "    return torch.exp((torch.cos(x)-1)/(2*sigma**2))\n",
    "\n",
    "def circular(theta):\n",
    "    \"\"\"Wraps `theta` to [-pi,pi).\"\"\"\n",
    "    return (theta+pi)%(2*pi)-pi\n",
    "\n",
    "def paddedRandomAngles(n, delta):\n",
    "    \"\"\"`n` random angles [-pi,pi) with `delta` minimum pairwise angular distance.\n",
    "\n",
    "    Args:\n",
    "        n (int): number of angles.\n",
    "        delta (float): minimum pairwise angular distance, in radians.\n",
    "\n",
    "    Returns:\n",
    "        angles ([float]): the list of angles.\n",
    "    \"\"\"\n",
    "    angles = torch.tensor([])\n",
    "    i = 0\n",
    "    while len(angles)<n:\n",
    "        potentialAngle = 2*pi*torch.rand(1)-pi\n",
    "        if all(abs(circular(potentialAngle - angles)) > delta):\n",
    "            angles = torch.cat((angles, potentialAngle))\n",
    "    return angles\n",
    "\n",
    "def randomWalk(steps, x0, vMax, aMax, aSigma):\n",
    "    \"\"\"Normally-distributed zero-mean acceleration on a cirle, with magnitude-\n",
    "    clipped acceleration and velocity, starting from rest.\n",
    "    \n",
    "    Args:\n",
    "        steps (int): duration of the walk, in steps.\n",
    "        x0 (float): initial position.\n",
    "        vMax (float): maximum velocity, in radians/step.\n",
    "        aMax (float): maximum acceleration, in radians/step^2.\n",
    "        aSigma (float): standard deviation of acceleration, in radians/step^2.\n",
    "\n",
    "    Yields:\n",
    "        x (float): position.\n",
    "    \"\"\"\n",
    "    x = x0\n",
    "    v = 0\n",
    "    output = torch.zeros(steps)\n",
    "    for step in range(steps):\n",
    "        output[step] = x\n",
    "        v += max(-aMax, min(aMax, random.gauss(0, aSigma)))\n",
    "        v  = max(-vMax, min(vMax, v))\n",
    "        x += v\n",
    "    return output\n",
    "        \n",
    "N_INPUT = 80\n",
    "N_HIDDEN = 128\n",
    "N_OUTPUT = 70\n",
    "\n",
    "N_STEPS = 100\n",
    "N_TRIALS = 20\n",
    "N_EPOCHS = 500\n",
    "\n",
    "vMax = pi/10 #rad/step\n",
    "aMax = pi/100 #rad/step^2\n",
    "xSigma = pi/6 #rad\n",
    "lSigma = pi/50 #rad\n",
    "vSigma = vMax/10 #rad/step\n",
    "aSigma = pi/400 #rad/step^2\n",
    "delta = pi/9 #rad\n",
    "dMin = pi/20 #rad\n",
    "zMin = 0.2*torch.rand(N_INPUT-N_OUTPUT)\n",
    "zMax = 0.2*torch.rand(N_INPUT-N_OUTPUT)+0.8\n",
    "\n",
    "class Network(torch.nn.Module):\n",
    "    def __init__(self):\n",
    "        super(Network, self).__init__()\n",
    "        self.rnn = torch.nn.RNN(N_INPUT, N_HIDDEN, batch_first=True)\n",
    "        self.linear = torch.nn.Linear(N_HIDDEN, N_OUTPUT)\n",
    "        self.tanh = torch.nn.Tanh()\n",
    "    \n",
    "    def forward(self, input):\n",
    "        return self.tanh(self.linear(self.rnn(input)[0]))\n",
    "    \n",
    "network = Network()\n",
    "criterion = torch.nn.MSELoss()\n",
    "optimizer = torch.optim.Adam(network.parameters(), lr=0.01)\n",
    "\n",
    "def createBatch(n_trials, n_steps, n_input, n_output):\n",
    "\n",
    "    input = torch.zeros(n_trials, n_steps, n_input)\n",
    "    target = torch.zeros(n_trials, n_steps, n_output)\n",
    "    landmarks = []\n",
    "\n",
    "    for trial in range(n_trials):\n",
    "        landmarks.append(paddedRandomAngles(random.randint(2, 5), delta))\n",
    "        x0 = random.random()*2*pi-pi\n",
    "        for step, x in enumerate(circular(randomWalk(n_steps, x0, vMax, aMax, aSigma))):\n",
    "            v = circular(x-x0)\n",
    "            x0 = x\n",
    "            input[trial,step,:-n_output] = torch.lerp(zMin, zMax, (v + random.gauss(0, vSigma))/(2*vMax)+0.5)\n",
    "            if any(abs(circular(landmarks[trial]-x)) < dMin):\n",
    "                input[trial,step,-n_output:] = vonMises(circular(x-torch.linspace(-pi, pi*(1-2/n_output), n_output) + random.gauss(0, lSigma)), xSigma)\n",
    "            target[trial,step,:] = vonMises(circular(x-torch.linspace(-pi, pi*(1-2/n_output), n_output)), xSigma)\n",
    "            \n",
    "    return (input, target, landmarks)"
   ]
  },
  {
   "cell_type": "code",
   "execution_count": 288,
   "metadata": {},
   "outputs": [
    {
     "data": {
      "image/png": "[encoded data removed]",
      "text/plain": [
       "<matplotlib.figure.Figure at 0x12576a090>"
      ]
     },
     "metadata": {
      "needs_background": "light"
     },
     "output_type": "display_data"
    }
   ],
   "source": [
    "input, target, landmarks = createBatch(N_TRIALS, N_STEPS, N_INPUT, N_OUTPUT)\n",
    "\n",
    "plt.imshow(input[0,:,:])\n",
    "for landmark in landmarks[0]:\n",
    "    plt.axvline((landmark+pi)/(2*pi)*N_OUTPUT+N_INPUT-N_OUTPUT)\n",
    "plt.show()"
   ]
  },
  {
   "cell_type": "code",
   "execution_count": 287,
   "metadata": {},
   "outputs": [
    {
     "data": {
      "text/plain": [
       "<matplotlib.image.AxesImage at 0x125778f50>"
      ]
     },
     "execution_count": 287,
     "metadata": {},
     "output_type": "execute_result"
    },
    {
     "data": {
      "image/png": "[encoded data removed]",
      "text/plain": [
       "<matplotlib.figure.Figure at 0x125659510>"
      ]
     },
     "metadata": {
      "needs_background": "light"
     },
     "output_type": "display_data"
    }
   ],
   "source": [
    "plt.imshow(target[0,:,:])"
   ]
  },
  {
   "cell_type": "code",
   "execution_count": 128,
   "metadata": {},
   "outputs": [
    {
     "ename": "TypeError",
     "evalue": "createBatch() takes exactly 4 arguments (0 given)",
     "output_type": "error",
     "traceback": [
      "\u001b[0;31m---------------------------------------------------------------------------\u001b[0m",
      "\u001b[0;31mTypeError\u001b[0m                                 Traceback (most recent call last)",
      "\u001b[0;32m<ipython-input-128-0d4cf55b2c13>\u001b[0m in \u001b[0;36m<module>\u001b[0;34m()\u001b[0m\n\u001b[1;32m      1\u001b[0m \u001b[0;32mfor\u001b[0m \u001b[0mepoch\u001b[0m \u001b[0;32min\u001b[0m \u001b[0mrange\u001b[0m\u001b[0;34m(\u001b[0m\u001b[0mN_EPOCHS\u001b[0m\u001b[0;34m)\u001b[0m\u001b[0;34m:\u001b[0m\u001b[0;34m\u001b[0m\u001b[0m\n\u001b[1;32m      2\u001b[0m \u001b[0;34m\u001b[0m\u001b[0m\n\u001b[0;32m----> 3\u001b[0;31m     \u001b[0minput\u001b[0m\u001b[0;34m,\u001b[0m \u001b[0mtarget\u001b[0m \u001b[0;34m=\u001b[0m \u001b[0mcreateBatch\u001b[0m\u001b[0;34m(\u001b[0m\u001b[0;34m)\u001b[0m\u001b[0;34m\u001b[0m\u001b[0m\n\u001b[0m\u001b[1;32m      4\u001b[0m \u001b[0;34m\u001b[0m\u001b[0m\n\u001b[1;32m      5\u001b[0m     \u001b[0moutput\u001b[0m \u001b[0;34m=\u001b[0m \u001b[0mnetwork\u001b[0m\u001b[0;34m(\u001b[0m\u001b[0minput\u001b[0m\u001b[0;34m)\u001b[0m\u001b[0;34m\u001b[0m\u001b[0m\n",
      "\u001b[0;31mTypeError\u001b[0m: createBatch() takes exactly 4 arguments (0 given)"
     ]
    }
   ],
   "source": [
    "losses = []\n",
    "for epoch in range(N_EPOCHS):\n",
    "    \n",
    "    input, target, landmarks = createBatch(N_TRIALS, N_STEPS, N_INPUT, N_OUTPUT)\n",
    "            \n",
    "    output = network(input)\n",
    "\n",
    "    loss = criterion(output, target)\n",
    "    loss.backward()\n",
    "    # torch.nn.utils.clip_grad_norm_(network.parameters(), 100)\n",
    "    if epoch%100==0:\n",
    "        ax.scatter(epoch, loss.item())\n",
    "    fig.canvas.draw()\n",
    "    optimizer.step()"
   ]
  },
  {
   "cell_type": "code",
   "execution_count": null,
   "metadata": {},
   "outputs": [],
   "source": []
  }
 ],
 "metadata": {
  "kernelspec": {
   "display_name": "Python 2",
   "language": "python",
   "name": "python2"
  },
  "language_info": {
   "codemirror_mode": {
    "name": "ipython",
    "version": 2
   },
   "file_extension": ".py",
   "mimetype": "text/x-python",
   "name": "python",
   "nbconvert_exporter": "python",
   "pygments_lexer": "ipython2",
   "version": "2.7.10"
  }
 },
 "nbformat": 4,
 "nbformat_minor": 2
}

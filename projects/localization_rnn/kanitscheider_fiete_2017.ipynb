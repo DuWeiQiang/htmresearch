{
 "cells": [
  {
   "cell_type": "markdown",
   "metadata": {},
   "source": [
    "# RNN 1D Localization task."
   ]
  },
  {
   "cell_type": "code",
   "execution_count": 1,
   "metadata": {},
   "outputs": [],
   "source": [
    "import torch\n",
    "import random\n",
    "from math import pi\n",
    "\n",
    "class Network(torch.nn.Module):\n",
    "    def __init__(self, n_input, n_hidden, n_output):\n",
    "        super(Network, self).__init__()\n",
    "        self.rnn = torch.nn.RNN(n_input, n_hidden, batch_first=True)\n",
    "        self.linear = torch.nn.Linear(n_hidden, n_output)\n",
    "        self.tanh = torch.nn.Tanh()\n",
    "    \n",
    "    def forward(self, input):\n",
    "        return self.tanh(self.linear(self.rnn(input)[0]))\n",
    "\n",
    "def vonMises(x, sigma):\n",
    "    \"\"\"The PDF of a von Mises distribution centered on 0.\"\"\"\n",
    "    return torch.exp((torch.cos(x)-1)/(2*sigma**2))\n",
    "\n",
    "def circular(theta):\n",
    "    \"\"\"Wraps `theta` to [-pi,pi).\"\"\"\n",
    "    return (theta+pi)%(2*pi)-pi\n",
    "\n",
    "def paddedRandomAngles(n, delta):\n",
    "    \"\"\"`n` random angles [-pi,pi) with `delta` minimum pairwise angular distance.\n",
    "\n",
    "    Args:\n",
    "        n (int): number of angles.\n",
    "        delta (float): minimum pairwise angular distance, in radians.\n",
    "\n",
    "    Returns:\n",
    "        angles ([float]): the list of angles.\n",
    "    \"\"\"\n",
    "    angles = torch.tensor([])\n",
    "    i = 0\n",
    "    while len(angles)<n:\n",
    "        potentialAngle = 2*pi*torch.rand(1)-pi\n",
    "        if all(abs(circular(potentialAngle - angles)) > delta):\n",
    "            angles = torch.cat((angles, potentialAngle))\n",
    "    return angles\n",
    "\n",
    "def randomWalk(steps, x0, vMax, aMax, aSigma):\n",
    "    \"\"\"Normally-distributed zero-mean acceleration with magnitude-\n",
    "    clipped acceleration and velocity, starting at rest.\n",
    "    \n",
    "    Args:\n",
    "        steps (int): duration of the walk, in time steps.\n",
    "        x0 (float): initial position.\n",
    "        vMax (float): maximum velocity, in radians/step.\n",
    "        aMax (float): maximum acceleration, in radians/step^2.\n",
    "        aSigma (float): standard deviation of acceleration, in radians/step^2.\n",
    "\n",
    "    Returns:\n",
    "        x (Tensor): position at each time step.\n",
    "    \"\"\"\n",
    "    x = x0\n",
    "    v = 0\n",
    "    output = torch.zeros(steps)\n",
    "    for step in range(steps):\n",
    "        output[step] = x\n",
    "        v += max(-aMax, min(aMax, random.gauss(0, aSigma)))\n",
    "        v  = max(-vMax, min(vMax, v))\n",
    "        x += v\n",
    "    return output\n",
    "\n",
    "def createBatch(n_trials, n_steps, n_input, n_output):\n",
    "\n",
    "    vMax = 2*pi/n_output\n",
    "    aMax = vMax/2\n",
    "    xSigma = vMax/2\n",
    "    lSigma = xWidth/10\n",
    "    vSigma = vMax/10\n",
    "    aSigma = vMax/10\n",
    "    delta = 2*vMax\n",
    "    dMin = vMax\n",
    "    \n",
    "    places = torch.linspace(-pi, pi*(1-2/n_output), n_output)\n",
    "    landmarks = [paddedRandomAngles(random.randint(2, 5), delta) for _ in range(n_trials)]\n",
    "    \n",
    "    input = torch.zeros(n_trials, n_steps, n_input)\n",
    "    target = torch.zeros(n_trials, n_steps, n_output)\n",
    "    \n",
    "    for trial in range(n_trials):\n",
    "        x0 = random.random()*2*pi-pi\n",
    "        for step, x in enumerate(circular(randomWalk(n_steps, x0, vMax, aMax, aSigma))):\n",
    "            v = circular(x-x0)\n",
    "            x0 = x\n",
    "            \n",
    "            input[trial,step,:-n_output] = (v + random.gauss(0, vSigma)) / vMax\n",
    "            \n",
    "            if any(abs(circular(landmarks[trial]-x)) < dMin):\n",
    "                lmNoise = random.gauss(0, lSigma)\n",
    "                input[trial,step,-n_output:] = sum(vonMises(lm-places+offset, xSigma) for lm in landmarks[trial])\n",
    "                \n",
    "            target[trial,step,:] = vonMises(x-places, xSigma)\n",
    "    \n",
    "    return (input, target, landmarks)"
   ]
  },
  {
   "cell_type": "markdown",
   "metadata": {},
   "source": [
    "## View input + target activations."
   ]
  },
  {
   "cell_type": "code",
   "execution_count": 2,
   "metadata": {},
   "outputs": [
    {
     "data": {
      "image/png": "[encoded data removed]",
      "text/plain": [
       "<matplotlib.figure.Figure at 0x110407f50>"
      ]
     },
     "metadata": {
      "needs_background": "light"
     },
     "output_type": "display_data"
    }
   ],
   "source": [
    "%matplotlib inline\n",
    "import matplotlib.pyplot as plt\n",
    "\n",
    "input, target, landmarks = createBatch(1, 100, 21, 20)\n",
    "\n",
    "fig,ax = plt.subplots(2,1)\n",
    "ax[0].imshow(input[0,:,:].data.numpy().T)\n",
    "ax[1].imshow(target[0,:,:].data.numpy().T)\n",
    "for landmark in landmarks[0]:\n",
    "    ax[0].axhline((landmark+pi)/(2*pi) * 20 + 1, color=\"white\", alpha=0.5, linewidth=1)\n",
    "    ax[1].axhline((landmark+pi)/(2*pi) * 20, color=\"white\", alpha=0.5, linewidth=1)\n",
    "\n",
    "plt.show()"
   ]
  },
  {
   "cell_type": "markdown",
   "metadata": {},
   "source": [
    "## Train the network."
   ]
  },
  {
   "cell_type": "code",
   "execution_count": 3,
   "metadata": {},
   "outputs": [],
   "source": [
    "N_INPUT = 80\n",
    "N_HIDDEN = 128\n",
    "N_OUTPUT = 70\n",
    "\n",
    "N_STEPS = 100\n",
    "N_TRIALS = 10\n",
    "N_EPOCHS = 100000\n",
    "\n",
    "network = Network(N_INPUT, N_HIDDEN, N_OUTPUT)\n",
    "criterion = torch.nn.MSELoss()\n",
    "optimizer = torch.optim.Adam(network.parameters())\n",
    "losses = []"
   ]
  },
  {
   "cell_type": "code",
   "execution_count": null,
   "metadata": {},
   "outputs": [
    {
     "name": "stderr",
     "output_type": "stream",
     "text": [
      " 66%|██████▌   | 65715/100000 [2:23:57<1:16:38,  7.46it/s]"
     ]
    }
   ],
   "source": [
    "from tqdm import tqdm\n",
    "for epoch in tqdm(range(N_EPOCHS)):\n",
    "    \n",
    "    input, target, landmarks = createBatch(N_TRIALS, N_STEPS, N_INPUT, N_OUTPUT)\n",
    "    \n",
    "    optimizer.zero_grad()\n",
    "    output = network(input)\n",
    "    \n",
    "    loss = criterion(output, target)\n",
    "    loss.backward()\n",
    "    losses.append(loss.item())\n",
    "    # torch.nn.utils.clip_grad_norm_(network.parameters(), 100)\n",
    "    #if epoch%100==0:\n",
    "    #    print epoch, loss.item()\n",
    "    optimizer.step()"
   ]
  },
  {
   "cell_type": "code",
   "execution_count": null,
   "metadata": {},
   "outputs": [],
   "source": [
    "#input, target, landmarks = createBatch(N_TRIALS, N_STEPS, N_INPUT, N_OUTPUT)\n",
    "#out = network(input)\n",
    "plt.imshow(np.max(out[0].data.numpy().T),axis=0)\n",
    "plt.show()\n",
    "plt.imshow(input[0].data.numpy().T)\n",
    "plt.show()\n",
    "plt.imshow(target[0,:,:].data.numpy().T)\n",
    "for landmark in landmarks[0]:\n",
    "    plt.axhline((landmark+pi)/(2*pi) * N_OUTPUT, color=\"white\", alpha=0.5, linewidth=1)\n",
    "\n"
   ]
  },
  {
   "cell_type": "code",
   "execution_count": null,
   "metadata": {},
   "outputs": [],
   "source": []
  }
 ],
 "metadata": {
  "kernelspec": {
   "display_name": "Python 2",
   "language": "python",
   "name": "python2"
  },
  "language_info": {
   "codemirror_mode": {
    "name": "ipython",
    "version": 2
   },
   "file_extension": ".py",
   "mimetype": "text/x-python",
   "name": "python",
   "nbconvert_exporter": "python",
   "pygments_lexer": "ipython2",
   "version": "2.7.10"
  }
 },
 "nbformat": 4,
 "nbformat_minor": 2
}
